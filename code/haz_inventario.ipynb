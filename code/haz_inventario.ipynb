{
 "cells": [
  {
   "cell_type": "code",
   "execution_count": 1,
   "metadata": {},
   "outputs": [
    {
     "name": "stdout",
     "output_type": "stream",
     "text": [
      "Instalando pillow...\n",
      "Instalando google-cloud-vision...\n"
     ]
    }
   ],
   "source": [
    "import sys\n",
    "sys.path.append(\"C:/Users/albag/Desktop/autoinventario\")\n",
    "\n",
    "import pynvent\n",
    "\n"
   ]
  },
  {
   "cell_type": "code",
   "execution_count": null,
   "metadata": {},
   "outputs": [
    {
     "name": "stdout",
     "output_type": "stream",
     "text": [
      "Documento de inventario guardado en: inventario_sin_renombrar.docx\n",
      "Tabla de contenidos guardada en: inventario_toc.xlsx\n"
     ]
    }
   ],
   "source": [
    "# Llama a la función principal\n",
    "root_folder = \"C:/Users/albag/Desktop/Fotos/Inventario casa nombres\"\n",
    "output_doc = \"inventario_sin_renombrar.docx\"\n",
    "location = \"SPRINGFIELD\\nCALLE FALSA 1,2,3\"\n",
    "name = \"HOMER J. SIMPSON\"\n",
    "dni = \"4815162342\"\n",
    "ref_expediente = \"XXXXXXXXXX\"\n",
    "\n",
    "# Ejecutar la función principal del módulo\n",
    "pynvent.crear_inventario(\n",
    "    root_folder=root_folder,\n",
    "    output_doc=output_doc,\n",
    "    location=location,\n",
    "    rename_images=False,\n",
    "    create_doc=True,\n",
    "    name=name,\n",
    "    dni=dni,\n",
    "    ref_expediente=ref_expediente\n",
    "\n",
    ")\n"
   ]
  }
 ],
 "metadata": {
  "kernelspec": {
   "display_name": "base",
   "language": "python",
   "name": "python3"
  },
  "language_info": {
   "codemirror_mode": {
    "name": "ipython",
    "version": 3
   },
   "file_extension": ".py",
   "mimetype": "text/x-python",
   "name": "python",
   "nbconvert_exporter": "python",
   "pygments_lexer": "ipython3",
   "version": "3.12.3"
  }
 },
 "nbformat": 4,
 "nbformat_minor": 2
}
